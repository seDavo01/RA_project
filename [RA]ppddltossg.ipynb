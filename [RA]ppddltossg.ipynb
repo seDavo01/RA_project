{
  "nbformat": 4,
  "nbformat_minor": 0,
  "metadata": {
    "colab": {
      "name": "[RA]ppddltossg.ipynb",
      "provenance": [],
      "collapsed_sections": [],
      "authorship_tag": "ABX9TyM1MipHykL8MFjIGQnds92T",
      "include_colab_link": true
    },
    "kernelspec": {
      "name": "python3",
      "display_name": "Python 3"
    },
    "language_info": {
      "name": "python"
    }
  },
  "cells": [
    {
      "cell_type": "markdown",
      "metadata": {
        "id": "view-in-github",
        "colab_type": "text"
      },
      "source": [
        "<a href=\"https://colab.research.google.com/github/seDavo01/RA_project/blob/main/%5BRA%5Dppddltossg.ipynb\" target=\"_parent\"><img src=\"https://colab.research.google.com/assets/colab-badge.svg\" alt=\"Open In Colab\"/></a>"
      ]
    },
    {
      "cell_type": "markdown",
      "source": [
        "# RA project\n",
        "\n",
        "Davide di Ienno  \n",
        "1691101  \n",
        "diienno.1691101@studenti.uniroma1.it  \n",
        "\n",
        "\n",
        "This is a notebook to use and test the implmentation, starting from pddl files (from another repository), generating from it a simple stochastic game and solving it with a linear programming algorithm. "
      ],
      "metadata": {
        "id": "bxwy91bzBvxe"
      }
    },
    {
      "cell_type": "markdown",
      "source": [
        "## Initialize environment"
      ],
      "metadata": {
        "id": "gx2SGY00Ce2b"
      }
    },
    {
      "cell_type": "markdown",
      "source": [
        "clone probabilistic branch of the planner-for-relevant-policies: we are going to use its sample problems to test the code"
      ],
      "metadata": {
        "id": "ETA-_l76Cs0l"
      }
    },
    {
      "cell_type": "code",
      "source": [
        "! git clone -b probabilistic https://github.com/QuMuLab/planner-for-relevant-policies"
      ],
      "metadata": {
        "colab": {
          "base_uri": "https://localhost:8080/"
        },
        "id": "gzkgugD0Boyu",
        "outputId": "a08979d8-2059-42b9-ab76-832b5c7c5739"
      },
      "execution_count": 52,
      "outputs": [
        {
          "output_type": "stream",
          "name": "stdout",
          "text": [
            "fatal: destination path 'planner-for-relevant-policies' already exists and is not an empty directory.\n"
          ]
        }
      ]
    },
    {
      "cell_type": "markdown",
      "source": [
        "clone the project with the source code and install needed libraries"
      ],
      "metadata": {
        "id": "ODc3Zas0C1rh"
      }
    },
    {
      "cell_type": "code",
      "execution_count": 53,
      "metadata": {
        "colab": {
          "base_uri": "https://localhost:8080/"
        },
        "id": "rBX6o0aUBKNn",
        "outputId": "bda0092d-4973-47ab-ed92-f0980bd1e800"
      },
      "outputs": [
        {
          "output_type": "stream",
          "name": "stdout",
          "text": [
            "fatal: destination path 'RA_project' already exists and is not an empty directory.\n"
          ]
        }
      ],
      "source": [
        "! git clone https://github.com/seDavo01/RA_project.git"
      ]
    },
    {
      "cell_type": "code",
      "source": [
        "! python3 -m pip install -r RA_project/requirements.txt"
      ],
      "metadata": {
        "colab": {
          "base_uri": "https://localhost:8080/"
        },
        "id": "vrUz1ky0DmHa",
        "outputId": "6e55a373-9c6d-48cc-ce94-cd141d11b961"
      },
      "execution_count": 54,
      "outputs": [
        {
          "output_type": "stream",
          "name": "stdout",
          "text": [
            "Requirement already satisfied: fraction in /usr/local/lib/python3.7/dist-packages (from -r RA_project/requirements.txt (line 1)) (2.1.1)\n",
            "Requirement already satisfied: pandas in /usr/local/lib/python3.7/dist-packages (from -r RA_project/requirements.txt (line 2)) (1.3.5)\n",
            "Requirement already satisfied: pulp in /usr/local/lib/python3.7/dist-packages (from -r RA_project/requirements.txt (line 3)) (2.6.0)\n",
            "Requirement already satisfied: tqdm in /usr/local/lib/python3.7/dist-packages (from -r RA_project/requirements.txt (line 4)) (4.62.3)\n",
            "Requirement already satisfied: pytz>=2017.3 in /usr/local/lib/python3.7/dist-packages (from pandas->-r RA_project/requirements.txt (line 2)) (2018.9)\n",
            "Requirement already satisfied: python-dateutil>=2.7.3 in /usr/local/lib/python3.7/dist-packages (from pandas->-r RA_project/requirements.txt (line 2)) (2.8.2)\n",
            "Requirement already satisfied: numpy>=1.17.3 in /usr/local/lib/python3.7/dist-packages (from pandas->-r RA_project/requirements.txt (line 2)) (1.19.5)\n",
            "Requirement already satisfied: six>=1.5 in /usr/local/lib/python3.7/dist-packages (from python-dateutil>=2.7.3->pandas->-r RA_project/requirements.txt (line 2)) (1.15.0)\n"
          ]
        }
      ]
    },
    {
      "cell_type": "code",
      "source": [
        "! mkdir output"
      ],
      "metadata": {
        "colab": {
          "base_uri": "https://localhost:8080/"
        },
        "id": "Hpsrhp5sNcJV",
        "outputId": "ec98393e-40da-49b5-c8c7-98f10c8b5a4f"
      },
      "execution_count": 55,
      "outputs": [
        {
          "output_type": "stream",
          "name": "stdout",
          "text": [
            "mkdir: cannot create directory ‘output’: File exists\n"
          ]
        }
      ]
    },
    {
      "cell_type": "markdown",
      "source": [
        "## Import libraries and files"
      ],
      "metadata": {
        "id": "hjgOE6tGEBQJ"
      }
    },
    {
      "cell_type": "code",
      "source": [
        "import sys\n",
        "sys.path.append('RA_project/src/')\n",
        "\n",
        "import matplotlib.pyplot as plt\n",
        "import networkx as nx\n",
        "import pandas as pd\n",
        "import pulp as lp\n",
        "\n",
        "import ppddltossg"
      ],
      "metadata": {
        "id": "QnK3deuxEFld"
      },
      "execution_count": 56,
      "outputs": []
    },
    {
      "cell_type": "markdown",
      "source": [
        "## Select domain and problem \n",
        "\n",
        "Read ppddl domain and problem.\n",
        "The ones here were all tested and works; consider that using bigger problem files is not a good idea with this implementation (that generate all the states).\n",
        "There is a time limitation equal to 300 seconds.\n",
        "\n",
        "Run the block of the chosen problem, consider that only the climber problem can be later represented in a graph using networkx (because it has only a few nodes)."
      ],
      "metadata": {
        "id": "bO1UotyMJwzz"
      }
    },
    {
      "cell_type": "markdown",
      "source": [
        "Blocksworld"
      ],
      "metadata": {
        "id": "p04ONSqoIoGy"
      }
    },
    {
      "cell_type": "code",
      "source": [
        "domain_file = 'planner-for-relevant-policies/prob-benchmarks/blocksworld/domain.pddl'\n",
        "problem_file = 'planner-for-relevant-policies/prob-benchmarks/blocksworld/p01.pddl'"
      ],
      "metadata": {
        "id": "yAWgjaLpIc7F"
      },
      "execution_count": 57,
      "outputs": []
    },
    {
      "cell_type": "markdown",
      "source": [
        "Tire problem"
      ],
      "metadata": {
        "id": "vXCQhTEIJJHV"
      }
    },
    {
      "cell_type": "code",
      "source": [
        "domain_file = 'planner-for-relevant-policies/prob-benchmarks/tire-problem/tire_domain.pddl'\n",
        "problem_file = 'planner-for-relevant-policies/prob-benchmarks/tire-problem/tire_problem.pddl'"
      ],
      "metadata": {
        "id": "By3G2RqjJOQj"
      },
      "execution_count": 58,
      "outputs": []
    },
    {
      "cell_type": "markdown",
      "source": [
        "Triangle tire world"
      ],
      "metadata": {
        "id": "d1iqaRZyJTfv"
      }
    },
    {
      "cell_type": "code",
      "source": [
        "domain_file = 'planner-for-relevant-policies/prob-benchmarks/triangle-tireworld/domain.pddl'\n",
        "problem_file = 'planner-for-relevant-policies/prob-benchmarks/triangle-tireworld/p03.pddl'"
      ],
      "metadata": {
        "id": "gddeIsn2JXGH"
      },
      "execution_count": 59,
      "outputs": []
    },
    {
      "cell_type": "markdown",
      "source": [
        "Climber"
      ],
      "metadata": {
        "id": "RgjNt7vOJj-F"
      }
    },
    {
      "cell_type": "code",
      "source": [
        "domain_file = 'planner-for-relevant-policies/prob-benchmarks/climber/climber_domain.pddl'\n",
        "problem_file = 'planner-for-relevant-policies/prob-benchmarks/climber/climber_problem.pddl'"
      ],
      "metadata": {
        "id": "PqJ7DwYTJmdI"
      },
      "execution_count": 60,
      "outputs": []
    },
    {
      "cell_type": "markdown",
      "source": [
        "## PPDDL to SSG\n",
        "\n",
        "With the chosen domain, read the files, generate the states and save them as a simple stochastic game in the particular case of one player and the average nodes.\n",
        "\n",
        "The output are two csv with nodes and edges, they can be easily imported with pandas later."
      ],
      "metadata": {
        "id": "mXtJ7lozJ3mx"
      }
    },
    {
      "cell_type": "code",
      "source": [
        "ppddltossg.main(domain_file, problem_file)"
      ],
      "metadata": {
        "colab": {
          "base_uri": "https://localhost:8080/"
        },
        "id": "o7xGUH1lNCVB",
        "outputId": "bb4878ff-723f-4cb7-cd4b-092056d619d0"
      },
      "execution_count": 61,
      "outputs": [
        {
          "output_type": "stream",
          "name": "stderr",
          "text": [
            "generating: |          | 0/300 [00:00<?] [tot-n=0, goal=0]\n"
          ]
        }
      ]
    },
    {
      "cell_type": "markdown",
      "source": [
        "## SSG\n",
        "\n",
        "If there are too many nodes it is useless to represent them, but the climber domain is a nice way to show how the result look like.  \n",
        "  \n",
        "But first, we need to read nodes and edges just generated.\n",
        "Talking about nodes, n is the identifier of the node, -1 is for the sink, 0 is the node that corresponds to the starting state defined in the 'problem.pddl'. The other numbers are given in the same order as the nodes are generated. Consider that the algorithm to generate states (and so, nodes) is a breath-first algorithm where the duplicates are discarded.  \n",
        "The type can be:  \n",
        " - '1-s' for the sink  \n",
        " - 'one' for the player, we assume here that he is the max player  \n",
        " - 'avg' for ann average node."
      ],
      "metadata": {
        "id": "ZK9MwJg9PCl9"
      }
    },
    {
      "cell_type": "code",
      "source": [
        "nodes_df = pd.read_csv('output/nodes.csv', index_col=0)\n",
        "nodes_df.head()"
      ],
      "metadata": {
        "colab": {
          "base_uri": "https://localhost:8080/",
          "height": 206
        },
        "id": "mRxU2Fa6Pm_P",
        "outputId": "5dacabd5-051e-48f6-8dd2-8275cb30590b"
      },
      "execution_count": 62,
      "outputs": [
        {
          "output_type": "execute_result",
          "data": {
            "text/html": [
              "\n",
              "  <div id=\"df-472558ee-83d1-4587-9b9e-2aa9f8b51da9\">\n",
              "    <div class=\"colab-df-container\">\n",
              "      <div>\n",
              "<style scoped>\n",
              "    .dataframe tbody tr th:only-of-type {\n",
              "        vertical-align: middle;\n",
              "    }\n",
              "\n",
              "    .dataframe tbody tr th {\n",
              "        vertical-align: top;\n",
              "    }\n",
              "\n",
              "    .dataframe thead th {\n",
              "        text-align: right;\n",
              "    }\n",
              "</style>\n",
              "<table border=\"1\" class=\"dataframe\">\n",
              "  <thead>\n",
              "    <tr style=\"text-align: right;\">\n",
              "      <th></th>\n",
              "      <th>n</th>\n",
              "      <th>type</th>\n",
              "    </tr>\n",
              "  </thead>\n",
              "  <tbody>\n",
              "    <tr>\n",
              "      <th>0</th>\n",
              "      <td>-1.0</td>\n",
              "      <td>1-s</td>\n",
              "    </tr>\n",
              "    <tr>\n",
              "      <th>1</th>\n",
              "      <td>0.0</td>\n",
              "      <td>one</td>\n",
              "    </tr>\n",
              "    <tr>\n",
              "      <th>2</th>\n",
              "      <td>1.0</td>\n",
              "      <td>avg</td>\n",
              "    </tr>\n",
              "    <tr>\n",
              "      <th>3</th>\n",
              "      <td>2.0</td>\n",
              "      <td>one</td>\n",
              "    </tr>\n",
              "    <tr>\n",
              "      <th>4</th>\n",
              "      <td>3.0</td>\n",
              "      <td>one</td>\n",
              "    </tr>\n",
              "  </tbody>\n",
              "</table>\n",
              "</div>\n",
              "      <button class=\"colab-df-convert\" onclick=\"convertToInteractive('df-472558ee-83d1-4587-9b9e-2aa9f8b51da9')\"\n",
              "              title=\"Convert this dataframe to an interactive table.\"\n",
              "              style=\"display:none;\">\n",
              "        \n",
              "  <svg xmlns=\"http://www.w3.org/2000/svg\" height=\"24px\"viewBox=\"0 0 24 24\"\n",
              "       width=\"24px\">\n",
              "    <path d=\"M0 0h24v24H0V0z\" fill=\"none\"/>\n",
              "    <path d=\"M18.56 5.44l.94 2.06.94-2.06 2.06-.94-2.06-.94-.94-2.06-.94 2.06-2.06.94zm-11 1L8.5 8.5l.94-2.06 2.06-.94-2.06-.94L8.5 2.5l-.94 2.06-2.06.94zm10 10l.94 2.06.94-2.06 2.06-.94-2.06-.94-.94-2.06-.94 2.06-2.06.94z\"/><path d=\"M17.41 7.96l-1.37-1.37c-.4-.4-.92-.59-1.43-.59-.52 0-1.04.2-1.43.59L10.3 9.45l-7.72 7.72c-.78.78-.78 2.05 0 2.83L4 21.41c.39.39.9.59 1.41.59.51 0 1.02-.2 1.41-.59l7.78-7.78 2.81-2.81c.8-.78.8-2.07 0-2.86zM5.41 20L4 18.59l7.72-7.72 1.47 1.35L5.41 20z\"/>\n",
              "  </svg>\n",
              "      </button>\n",
              "      \n",
              "  <style>\n",
              "    .colab-df-container {\n",
              "      display:flex;\n",
              "      flex-wrap:wrap;\n",
              "      gap: 12px;\n",
              "    }\n",
              "\n",
              "    .colab-df-convert {\n",
              "      background-color: #E8F0FE;\n",
              "      border: none;\n",
              "      border-radius: 50%;\n",
              "      cursor: pointer;\n",
              "      display: none;\n",
              "      fill: #1967D2;\n",
              "      height: 32px;\n",
              "      padding: 0 0 0 0;\n",
              "      width: 32px;\n",
              "    }\n",
              "\n",
              "    .colab-df-convert:hover {\n",
              "      background-color: #E2EBFA;\n",
              "      box-shadow: 0px 1px 2px rgba(60, 64, 67, 0.3), 0px 1px 3px 1px rgba(60, 64, 67, 0.15);\n",
              "      fill: #174EA6;\n",
              "    }\n",
              "\n",
              "    [theme=dark] .colab-df-convert {\n",
              "      background-color: #3B4455;\n",
              "      fill: #D2E3FC;\n",
              "    }\n",
              "\n",
              "    [theme=dark] .colab-df-convert:hover {\n",
              "      background-color: #434B5C;\n",
              "      box-shadow: 0px 1px 3px 1px rgba(0, 0, 0, 0.15);\n",
              "      filter: drop-shadow(0px 1px 2px rgba(0, 0, 0, 0.3));\n",
              "      fill: #FFFFFF;\n",
              "    }\n",
              "  </style>\n",
              "\n",
              "      <script>\n",
              "        const buttonEl =\n",
              "          document.querySelector('#df-472558ee-83d1-4587-9b9e-2aa9f8b51da9 button.colab-df-convert');\n",
              "        buttonEl.style.display =\n",
              "          google.colab.kernel.accessAllowed ? 'block' : 'none';\n",
              "\n",
              "        async function convertToInteractive(key) {\n",
              "          const element = document.querySelector('#df-472558ee-83d1-4587-9b9e-2aa9f8b51da9');\n",
              "          const dataTable =\n",
              "            await google.colab.kernel.invokeFunction('convertToInteractive',\n",
              "                                                     [key], {});\n",
              "          if (!dataTable) return;\n",
              "\n",
              "          const docLinkHtml = 'Like what you see? Visit the ' +\n",
              "            '<a target=\"_blank\" href=https://colab.research.google.com/notebooks/data_table.ipynb>data table notebook</a>'\n",
              "            + ' to learn more about interactive tables.';\n",
              "          element.innerHTML = '';\n",
              "          dataTable['output_type'] = 'display_data';\n",
              "          await google.colab.output.renderOutput(dataTable, element);\n",
              "          const docLink = document.createElement('div');\n",
              "          docLink.innerHTML = docLinkHtml;\n",
              "          element.appendChild(docLink);\n",
              "        }\n",
              "      </script>\n",
              "    </div>\n",
              "  </div>\n",
              "  "
            ],
            "text/plain": [
              "     n type\n",
              "0 -1.0  1-s\n",
              "1  0.0  one\n",
              "2  1.0  avg\n",
              "3  2.0  one\n",
              "4  3.0  one"
            ]
          },
          "metadata": {},
          "execution_count": 62
        }
      ]
    },
    {
      "cell_type": "markdown",
      "source": [
        "Edges are characterized by:  \n",
        " - 'from' that indicates the starting node  \n",
        " - 'to' for the destination  \n",
        " - 'prob' for the probability, considering that where it is not needed (i.e. the starting node is handled by the max player) it is 1 and it is not used (so, it's a placeholder)"
      ],
      "metadata": {
        "id": "oliMIo7ZRuP_"
      }
    },
    {
      "cell_type": "code",
      "source": [
        "edges_df = pd.read_csv('output/edges.csv', index_col=0)\n",
        "edges_df.head()"
      ],
      "metadata": {
        "colab": {
          "base_uri": "https://localhost:8080/",
          "height": 206
        },
        "id": "OqcqdMl4PrZl",
        "outputId": "1dd2390f-f162-4fe1-c2a0-4addeff5cf72"
      },
      "execution_count": 63,
      "outputs": [
        {
          "output_type": "execute_result",
          "data": {
            "text/html": [
              "\n",
              "  <div id=\"df-e7d76f26-19b7-4fc0-ac0b-b9b4daed5d38\">\n",
              "    <div class=\"colab-df-container\">\n",
              "      <div>\n",
              "<style scoped>\n",
              "    .dataframe tbody tr th:only-of-type {\n",
              "        vertical-align: middle;\n",
              "    }\n",
              "\n",
              "    .dataframe tbody tr th {\n",
              "        vertical-align: top;\n",
              "    }\n",
              "\n",
              "    .dataframe thead th {\n",
              "        text-align: right;\n",
              "    }\n",
              "</style>\n",
              "<table border=\"1\" class=\"dataframe\">\n",
              "  <thead>\n",
              "    <tr style=\"text-align: right;\">\n",
              "      <th></th>\n",
              "      <th>from</th>\n",
              "      <th>to</th>\n",
              "      <th>prob</th>\n",
              "    </tr>\n",
              "  </thead>\n",
              "  <tbody>\n",
              "    <tr>\n",
              "      <th>0</th>\n",
              "      <td>0.0</td>\n",
              "      <td>1.0</td>\n",
              "      <td>1.0</td>\n",
              "    </tr>\n",
              "    <tr>\n",
              "      <th>1</th>\n",
              "      <td>1.0</td>\n",
              "      <td>2.0</td>\n",
              "      <td>0.4</td>\n",
              "    </tr>\n",
              "    <tr>\n",
              "      <th>2</th>\n",
              "      <td>1.0</td>\n",
              "      <td>3.0</td>\n",
              "      <td>0.6</td>\n",
              "    </tr>\n",
              "    <tr>\n",
              "      <th>3</th>\n",
              "      <td>0.0</td>\n",
              "      <td>4.0</td>\n",
              "      <td>1.0</td>\n",
              "    </tr>\n",
              "    <tr>\n",
              "      <th>4</th>\n",
              "      <td>2.0</td>\n",
              "      <td>2.0</td>\n",
              "      <td>1.0</td>\n",
              "    </tr>\n",
              "  </tbody>\n",
              "</table>\n",
              "</div>\n",
              "      <button class=\"colab-df-convert\" onclick=\"convertToInteractive('df-e7d76f26-19b7-4fc0-ac0b-b9b4daed5d38')\"\n",
              "              title=\"Convert this dataframe to an interactive table.\"\n",
              "              style=\"display:none;\">\n",
              "        \n",
              "  <svg xmlns=\"http://www.w3.org/2000/svg\" height=\"24px\"viewBox=\"0 0 24 24\"\n",
              "       width=\"24px\">\n",
              "    <path d=\"M0 0h24v24H0V0z\" fill=\"none\"/>\n",
              "    <path d=\"M18.56 5.44l.94 2.06.94-2.06 2.06-.94-2.06-.94-.94-2.06-.94 2.06-2.06.94zm-11 1L8.5 8.5l.94-2.06 2.06-.94-2.06-.94L8.5 2.5l-.94 2.06-2.06.94zm10 10l.94 2.06.94-2.06 2.06-.94-2.06-.94-.94-2.06-.94 2.06-2.06.94z\"/><path d=\"M17.41 7.96l-1.37-1.37c-.4-.4-.92-.59-1.43-.59-.52 0-1.04.2-1.43.59L10.3 9.45l-7.72 7.72c-.78.78-.78 2.05 0 2.83L4 21.41c.39.39.9.59 1.41.59.51 0 1.02-.2 1.41-.59l7.78-7.78 2.81-2.81c.8-.78.8-2.07 0-2.86zM5.41 20L4 18.59l7.72-7.72 1.47 1.35L5.41 20z\"/>\n",
              "  </svg>\n",
              "      </button>\n",
              "      \n",
              "  <style>\n",
              "    .colab-df-container {\n",
              "      display:flex;\n",
              "      flex-wrap:wrap;\n",
              "      gap: 12px;\n",
              "    }\n",
              "\n",
              "    .colab-df-convert {\n",
              "      background-color: #E8F0FE;\n",
              "      border: none;\n",
              "      border-radius: 50%;\n",
              "      cursor: pointer;\n",
              "      display: none;\n",
              "      fill: #1967D2;\n",
              "      height: 32px;\n",
              "      padding: 0 0 0 0;\n",
              "      width: 32px;\n",
              "    }\n",
              "\n",
              "    .colab-df-convert:hover {\n",
              "      background-color: #E2EBFA;\n",
              "      box-shadow: 0px 1px 2px rgba(60, 64, 67, 0.3), 0px 1px 3px 1px rgba(60, 64, 67, 0.15);\n",
              "      fill: #174EA6;\n",
              "    }\n",
              "\n",
              "    [theme=dark] .colab-df-convert {\n",
              "      background-color: #3B4455;\n",
              "      fill: #D2E3FC;\n",
              "    }\n",
              "\n",
              "    [theme=dark] .colab-df-convert:hover {\n",
              "      background-color: #434B5C;\n",
              "      box-shadow: 0px 1px 3px 1px rgba(0, 0, 0, 0.15);\n",
              "      filter: drop-shadow(0px 1px 2px rgba(0, 0, 0, 0.3));\n",
              "      fill: #FFFFFF;\n",
              "    }\n",
              "  </style>\n",
              "\n",
              "      <script>\n",
              "        const buttonEl =\n",
              "          document.querySelector('#df-e7d76f26-19b7-4fc0-ac0b-b9b4daed5d38 button.colab-df-convert');\n",
              "        buttonEl.style.display =\n",
              "          google.colab.kernel.accessAllowed ? 'block' : 'none';\n",
              "\n",
              "        async function convertToInteractive(key) {\n",
              "          const element = document.querySelector('#df-e7d76f26-19b7-4fc0-ac0b-b9b4daed5d38');\n",
              "          const dataTable =\n",
              "            await google.colab.kernel.invokeFunction('convertToInteractive',\n",
              "                                                     [key], {});\n",
              "          if (!dataTable) return;\n",
              "\n",
              "          const docLinkHtml = 'Like what you see? Visit the ' +\n",
              "            '<a target=\"_blank\" href=https://colab.research.google.com/notebooks/data_table.ipynb>data table notebook</a>'\n",
              "            + ' to learn more about interactive tables.';\n",
              "          element.innerHTML = '';\n",
              "          dataTable['output_type'] = 'display_data';\n",
              "          await google.colab.output.renderOutput(dataTable, element);\n",
              "          const docLink = document.createElement('div');\n",
              "          docLink.innerHTML = docLinkHtml;\n",
              "          element.appendChild(docLink);\n",
              "        }\n",
              "      </script>\n",
              "    </div>\n",
              "  </div>\n",
              "  "
            ],
            "text/plain": [
              "   from   to  prob\n",
              "0   0.0  1.0   1.0\n",
              "1   1.0  2.0   0.4\n",
              "2   1.0  3.0   0.6\n",
              "3   0.0  4.0   1.0\n",
              "4   2.0  2.0   1.0"
            ]
          },
          "metadata": {},
          "execution_count": 63
        }
      ]
    },
    {
      "cell_type": "markdown",
      "source": [
        "### Graph\n",
        "\n",
        "With the climber domain it is nice to see the related graph.  \n",
        "Inside the nodes represented are de ids readed before.\n",
        "The color schema is the following:  \n",
        " - blue for nodes of the max player  \n",
        " - red for average nodes  \n",
        " - green for the sink node of the max player.  \n",
        "   \n",
        "Note how there are probabilities, where the useful ones are in the edges from the average nodes.\n",
        "It is also interesting to see how there are nodes, such as 6 and 2, are a dead-end. "
      ],
      "metadata": {
        "id": "Y2PRv8T7T_p0"
      }
    },
    {
      "cell_type": "code",
      "source": [
        "if 'climber' in domain_file:\n",
        "    nodes_colors = list()\n",
        "    nodes_labels = dict()\n",
        "    edges_labels = dict()\n",
        "    DG = nx.DiGraph()\n",
        "    DG.add_nodes_from(nodes_df['n'])\n",
        "    for _n, _type, in zip(nodes_df['n'], nodes_df['type']):\n",
        "        nodes_labels[int(_n)] = str(int(_n))\n",
        "        if _type == 'one':\n",
        "            c = \"tab:blue\"\n",
        "        elif _type == 'avg':\n",
        "            c = \"tab:red\"\n",
        "        else:\n",
        "            c = \"tab:green\"\n",
        "        nodes_colors.append(c)\n",
        "    for _from, _to, _prob in zip(edges_df['from'], edges_df['to'], edges_df['prob']):\n",
        "        edge = (int(_from), int(_to))\n",
        "        DG.add_edges_from([edge])\n",
        "        edges_labels[edge] = _prob\n",
        "\n",
        "    pos = nx.spectral_layout(DG)\n",
        "\n",
        "    subax1 = plt.subplot(111)\n",
        "    _ = nx.draw_networkx_nodes(DG, pos=pos, node_color=nodes_colors)\n",
        "    _ = nx.draw_networkx_labels(DG, pos=pos, labels=nodes_labels)\n",
        "    _ = nx.draw_networkx_edges(DG, pos=pos)\n",
        "    _ = nx.draw_networkx_edge_labels(DG, pos=pos, edge_labels=edges_labels)"
      ],
      "metadata": {
        "colab": {
          "base_uri": "https://localhost:8080/",
          "height": 248
        },
        "id": "ohwAMG15PTfa",
        "outputId": "1cb3f034-d8db-463f-8183-d8c02505d39b"
      },
      "execution_count": 64,
      "outputs": [
        {
          "output_type": "display_data",
          "data": {
            "image/png": "[encoded data removed]",
            "text/plain": [
              "<Figure size 432x288 with 1 Axes>"
            ]
          },
          "metadata": {}
        }
      ]
    },
    {
      "cell_type": "markdown",
      "source": [
        "## Solver\n",
        "\n",
        "We can use a linear programming algorithm to solve our simple stochastic game with only max and average vertices.  \n",
        "The objective is to minimize $\\sum_{x\\in{}V}{v(x)}$, where V are all the vertices.\n",
        "The constraints are in part generalized with respect to the \"classical\" max+avg problem, mainly because the probabilities are not always 0.5. Such constraints are:  \n",
        " - $v(x)\\geq{}v(y)$ if x is a max node and the edge x,y exist  \n",
        " - $v(x)\\geq{}\\sum_{y}{p(x,y)v(y)}$ if x is an avg node, where p(x,y) is the probability associated to the edge between x and y (note how there are no limitations in the number of nodes and in their associated probabilities)\n",
        " - $v(x)=p(x)$ if x is the sink  \n",
        " - $v(x)\\geq{}0$ for all vertices x  \n",
        "\n",
        "\n",
        "To solve this linear problem it was used a library called [PuLP](https://pypi.org/project/PuLP/).  \n",
        "The problem is initialized with the conditions presented above and the minimization problem is solved with its (of pulp) solver."
      ],
      "metadata": {
        "id": "rl1QgafRbmhI"
      }
    },
    {
      "cell_type": "code",
      "source": [
        "variables = list()\n",
        "nodes = list()\n",
        "\n",
        "for n, t in zip(nodes_df['n'], nodes_df['type']):\n",
        "    variables.append(lp.LpVariable('x'+str(int(n)), lowBound = 0))\n",
        "    nodes.append((n, t))\n",
        "\n",
        "Lp_prob = lp.LpProblem('Problem', lp.LpMinimize) \n",
        "exp = 0\n",
        "for v in variables:\n",
        "    exp += v\n",
        "Lp_prob += exp\n",
        "\n",
        "for n in nodes:\n",
        "    temp_df = edges_df['from'] == n[0]\n",
        "    temp_df = edges_df[temp_df]\n",
        "    if n[1] == 'one':\n",
        "        for f, t in zip(temp_df['from'], temp_df['to']):\n",
        "            if f != t:\n",
        "                Lp_prob += variables[int(f)+1] >= variables[int(t)+1]\n",
        "    elif n[1] == 'avg':\n",
        "        probs = temp_df['prob'].tolist()\n",
        "        tos = temp_df['to'].tolist()\n",
        "        Lp_prob += variables[int(n[0])+1] >= [prob * variables[int(to)+1] for prob, to in zip(probs, tos)]\n",
        "    elif n[1] == '1-s':\n",
        "        Lp_prob += variables[int(n[0])+1] == 100\n",
        "\n",
        "status = Lp_prob.solve()\n",
        "print('linear problem status: ' + lp.LpStatus[status])\n",
        "print('probability (over 100) of starting node (state): ' + str(lp.value(variables[1])))\n",
        "print('value: ' + str(lp.value(Lp_prob.objective)))"
      ],
      "metadata": {
        "colab": {
          "base_uri": "https://localhost:8080/"
        },
        "id": "EZnapNhMdsmB",
        "outputId": "b4b57d8b-549f-4dfb-a079-a87b8fad05e6"
      },
      "execution_count": 65,
      "outputs": [
        {
          "output_type": "stream",
          "name": "stdout",
          "text": [
            "linear problem status: Optimal\n",
            "probability (over 100) of starting node (state): 100.0\n",
            "value: 620.0\n"
          ]
        }
      ]
    }
  ]
}